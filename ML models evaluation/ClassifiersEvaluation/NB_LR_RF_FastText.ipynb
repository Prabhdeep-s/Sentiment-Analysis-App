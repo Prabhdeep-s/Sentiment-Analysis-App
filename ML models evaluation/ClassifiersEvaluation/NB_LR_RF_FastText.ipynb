{
 "cells": [
  {
   "cell_type": "code",
   "execution_count": 1,
   "metadata": {},
   "outputs": [],
   "source": [
    "import pandas as pd\n",
    "from sklearn.model_selection import train_test_split\n",
    "from sklearn.linear_model._logistic import LogisticRegression\n",
    "from sklearn.naive_bayes import MultinomialNB\n",
    "from sklearn.ensemble import RandomForestClassifier\n",
    "from sklearn.metrics import classification_report, confusion_matrix\n",
    "from sklearn import metrics\n",
    "import pickle\n",
    "#import sys\n",
    "#sys.path.append('./')"
   ]
  },
  {
   "cell_type": "code",
   "execution_count": 2,
   "metadata": {},
   "outputs": [],
   "source": [
    "data = pd.read_csv(r\"..\\Dataset\\yelpReviewsDataset.csv\")"
   ]
  },
  {
   "cell_type": "code",
   "execution_count": 3,
   "metadata": {},
   "outputs": [],
   "source": [
    "with open(r\"..\\TokenizedDataset\\yelpReviewsDatasetTokens.pkl\", \"rb\") as file:\n",
    "    corpus = pickle.load(file)"
   ]
  },
  {
   "cell_type": "code",
   "execution_count": 4,
   "metadata": {},
   "outputs": [],
   "source": [
    "X = corpus\n",
    "y = data['Rating']\n",
    "X_train, X_test, y_train, y_test = train_test_split(X, y, test_size=0.2,random_state=42)\n",
    "labels = y_train.values.tolist()\n",
    "inputdata = [f\"__label__{label} {text}\" for label, text in zip(labels, X_train)]\n",
    "with open(r\"..\\Vectorizers\\train_FastText.txt\", \"w\", encoding=\"utf-8\") as f:\n",
    "    f.write('\\n'.join(inputdata))"
   ]
  },
  {
   "cell_type": "code",
   "execution_count": 5,
   "metadata": {},
   "outputs": [],
   "source": [
    "# Train the FastText model\n",
    "from fasttext import train_supervised\n",
    "model = train_supervised(input=r\"..\\Vectorizers\\train_FastText.txt\")"
   ]
  },
  {
   "cell_type": "code",
   "execution_count": 6,
   "metadata": {},
   "outputs": [],
   "source": [
    "# Create a function to generate text vectors\n",
    "def text_vector(text):\n",
    "    return model.get_sentence_vector(text)\n",
    "# Convert text data to text vectors\n",
    "X = [text_vector(text) for text in corpus]\n",
    "y = data['Rating'].values\n",
    "X_train, X_test, y_train, y_test = train_test_split(X, y, test_size=0.2,random_state=42)"
   ]
  },
  {
   "cell_type": "code",
   "execution_count": 7,
   "metadata": {},
   "outputs": [],
   "source": [
    "from sklearn.preprocessing import MinMaxScaler\n",
    "scaler = MinMaxScaler()\n",
    "X_train = scaler.fit_transform(X_train)\n",
    "X_test = scaler.transform(X_test)"
   ]
  },
  {
   "cell_type": "code",
   "execution_count": 8,
   "metadata": {},
   "outputs": [
    {
     "name": "stdout",
     "output_type": "stream",
     "text": [
      "NB (with FastText) accuracy is 58.82%\n",
      "------------------------------------------------\n",
      "Confusion Matrix:\n",
      "      0     1     2     3     4\n",
      "0  7419  2306   319    48    31\n",
      "1  2410  5026  2228   264    65\n",
      "2   497  2235  4970  2000   238\n",
      "3   108   346  1964  5152  2424\n",
      "4   156   166   332  2452  6844\n",
      "------------------------------------------------\n",
      "Classification Report:\n",
      "              precision    recall  f1-score   support\n",
      "\n",
      "           1       0.70      0.73      0.72     10123\n",
      "           2       0.50      0.50      0.50      9993\n",
      "           3       0.51      0.50      0.50      9940\n",
      "           4       0.52      0.52      0.52      9994\n",
      "           5       0.71      0.69      0.70      9950\n",
      "\n",
      "    accuracy                           0.59     50000\n",
      "   macro avg       0.59      0.59      0.59     50000\n",
      "weighted avg       0.59      0.59      0.59     50000\n",
      "\n"
     ]
    }
   ],
   "source": [
    "# Train the Naive Bayes classifier\n",
    "MNB = MultinomialNB()\n",
    "MNB.fit(X_train, y_train)\n",
    "\n",
    "predicted = MNB.predict(X_test)\n",
    "accuracy_score = metrics.accuracy_score(predicted, y_test)\n",
    "\n",
    "print('NB (with FastText) accuracy is',str('{:04.2f}'.format(accuracy_score*100))+'%')\n",
    "print('------------------------------------------------')\n",
    "print('Confusion Matrix:')\n",
    "print(pd.DataFrame(confusion_matrix(y_test, predicted)))\n",
    "print('------------------------------------------------')\n",
    "print('Classification Report:')\n",
    "print(classification_report(y_test, predicted))"
   ]
  },
  {
   "cell_type": "code",
   "execution_count": 9,
   "metadata": {},
   "outputs": [
    {
     "name": "stdout",
     "output_type": "stream",
     "text": [
      "LR (with FastText) accuracy is 59.24%\n",
      "------------------------------------------------\n",
      "Confusion Matrix:\n",
      "      0     1     2     3     4\n",
      "0  7423  2137   392    83    88\n",
      "1  2480  4940  2174   269   130\n",
      "2   524  2098  5013  1969   336\n",
      "3    93   248  1894  5253  2506\n",
      "4    97    99   354  2411  6989\n",
      "------------------------------------------------\n",
      "Classification Report:\n",
      "              precision    recall  f1-score   support\n",
      "\n",
      "           1       0.70      0.73      0.72     10123\n",
      "           2       0.52      0.49      0.51      9993\n",
      "           3       0.51      0.50      0.51      9940\n",
      "           4       0.53      0.53      0.53      9994\n",
      "           5       0.70      0.70      0.70      9950\n",
      "\n",
      "    accuracy                           0.59     50000\n",
      "   macro avg       0.59      0.59      0.59     50000\n",
      "weighted avg       0.59      0.59      0.59     50000\n",
      "\n"
     ]
    }
   ],
   "source": [
    "# Train the Logistic Regression classifier\n",
    "LR = LogisticRegression(solver='lbfgs', max_iter=5000)\n",
    "LR.fit(X_train, y_train)\n",
    "\n",
    "predicted = LR.predict(X_test)\n",
    "accuracy_score = metrics.accuracy_score(predicted, y_test)\n",
    "\n",
    "print('LR (with FastText) accuracy is',str('{:04.2f}'.format(accuracy_score*100))+'%')\n",
    "print('------------------------------------------------')\n",
    "print('Confusion Matrix:')\n",
    "print(pd.DataFrame(confusion_matrix(y_test, predicted)))\n",
    "print('------------------------------------------------')\n",
    "print('Classification Report:')\n",
    "print(classification_report(y_test, predicted))"
   ]
  },
  {
   "cell_type": "code",
   "execution_count": 10,
   "metadata": {},
   "outputs": [
    {
     "name": "stdout",
     "output_type": "stream",
     "text": [
      "RF (with FastText) accuracy is 58.16%\n",
      "------------------------------------------------\n",
      "Confusion Matrix:\n",
      "      0     1     2     3     4\n",
      "0  7292  2277   397    75    82\n",
      "1  2506  4983  2082   298   124\n",
      "2   513  2370  4745  1941   371\n",
      "3    94   316  1932  5084  2568\n",
      "4    89   125   389  2371  6976\n",
      "------------------------------------------------\n",
      "Classification Report:\n",
      "              precision    recall  f1-score   support\n",
      "\n",
      "           1       0.69      0.72      0.71     10123\n",
      "           2       0.49      0.50      0.50      9993\n",
      "           3       0.50      0.48      0.49      9940\n",
      "           4       0.52      0.51      0.51      9994\n",
      "           5       0.69      0.70      0.70      9950\n",
      "\n",
      "    accuracy                           0.58     50000\n",
      "   macro avg       0.58      0.58      0.58     50000\n",
      "weighted avg       0.58      0.58      0.58     50000\n",
      "\n"
     ]
    }
   ],
   "source": [
    "# Train the Random Forest classifier\n",
    "RF = RandomForestClassifier(n_jobs=-1)\n",
    "RF.fit(X_train, y_train)\n",
    "\n",
    "predicted = RF.predict(X_test)\n",
    "accuracy_score = metrics.accuracy_score(predicted, y_test)\n",
    "\n",
    "print('RF (with FastText) accuracy is',str('{:04.2f}'.format(accuracy_score*100))+'%')\n",
    "print('------------------------------------------------')\n",
    "print('Confusion Matrix:')\n",
    "print(pd.DataFrame(confusion_matrix(y_test, predicted)))\n",
    "print('------------------------------------------------')\n",
    "print('Classification Report:')\n",
    "print(classification_report(y_test, predicted))"
   ]
  }
 ],
 "metadata": {
  "kernelspec": {
   "display_name": "_environment",
   "language": "python",
   "name": "python3"
  },
  "language_info": {
   "codemirror_mode": {
    "name": "ipython",
    "version": 3
   },
   "file_extension": ".py",
   "mimetype": "text/x-python",
   "name": "python",
   "nbconvert_exporter": "python",
   "pygments_lexer": "ipython3",
   "version": "3.12.2"
  }
 },
 "nbformat": 4,
 "nbformat_minor": 2
}
