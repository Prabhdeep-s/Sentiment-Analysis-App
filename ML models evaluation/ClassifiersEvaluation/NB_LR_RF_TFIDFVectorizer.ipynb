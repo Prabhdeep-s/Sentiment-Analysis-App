{
 "cells": [
  {
   "cell_type": "code",
   "execution_count": 1,
   "metadata": {},
   "outputs": [],
   "source": [
    "import pandas as pd\n",
    "from sklearn.model_selection import train_test_split\n",
    "from sklearn.linear_model._logistic import LogisticRegression\n",
    "from sklearn.naive_bayes import MultinomialNB\n",
    "from sklearn.ensemble import RandomForestClassifier\n",
    "from sklearn.metrics import classification_report, confusion_matrix\n",
    "from sklearn import metrics\n",
    "import pickle\n",
    "import sys\n",
    "sys.path.append('../Vectorizers')\n",
    "from TFIDFVectorizer import getTFIDFVectors"
   ]
  },
  {
   "cell_type": "code",
   "execution_count": 2,
   "metadata": {},
   "outputs": [],
   "source": [
    "data = pd.read_csv(r\"..\\Dataset\\yelpReviewsDataset.csv\")"
   ]
  },
  {
   "cell_type": "code",
   "execution_count": 3,
   "metadata": {},
   "outputs": [],
   "source": [
    "with open(r\"..\\TokenizedDataset\\yelpReviewsDatasetTokens.pkl\", \"rb\") as file:\n",
    "    tokenized_Reviews = pickle.load(file)"
   ]
  },
  {
   "cell_type": "code",
   "execution_count": 4,
   "metadata": {},
   "outputs": [],
   "source": [
    "# Split the data into training and testing sets\n",
    "X_train, X_test, y_train, y_test = train_test_split(tokenized_Reviews, data['Rating'].values, test_size=0.2, random_state=42)\n",
    "\n",
    "# Convert text data to numerical feature vectors\n",
    "X_train_vectorized, X_test_vectorized = getTFIDFVectors(X_train, X_test)"
   ]
  },
  {
   "cell_type": "code",
   "execution_count": 5,
   "metadata": {},
   "outputs": [
    {
     "name": "stdout",
     "output_type": "stream",
     "text": [
      "NB (with TFIDF vectorizer) accuracy is 54.38%\n",
      "------------------------------------------------\n",
      "Confusion Matrix:\n",
      "      0     1     2     3     4\n",
      "0  6945  2574   459    90    55\n",
      "1  2671  4519  2382   333    88\n",
      "2   888  2070  4608  2053   321\n",
      "3   254   485  2111  5079  2065\n",
      "4   214   206   509  2983  6038\n",
      "------------------------------------------------\n",
      "Classification Report:\n",
      "              precision    recall  f1-score   support\n",
      "\n",
      "           1       0.63      0.69      0.66     10123\n",
      "           2       0.46      0.45      0.46      9993\n",
      "           3       0.46      0.46      0.46      9940\n",
      "           4       0.48      0.51      0.49      9994\n",
      "           5       0.70      0.61      0.65      9950\n",
      "\n",
      "    accuracy                           0.54     50000\n",
      "   macro avg       0.55      0.54      0.54     50000\n",
      "weighted avg       0.55      0.54      0.54     50000\n",
      "\n"
     ]
    }
   ],
   "source": [
    "# Train the Naive Bayes classifier\n",
    "MNB = MultinomialNB()\n",
    "MNB.fit(X_train_vectorized, y_train)\n",
    "\n",
    "predicted = MNB.predict(X_test_vectorized)\n",
    "accuracy_score = metrics.accuracy_score(predicted, y_test)\n",
    "\n",
    "print('NB (with TFIDF vectorizer) accuracy is',str('{:04.2f}'.format(accuracy_score*100))+'%')\n",
    "print('------------------------------------------------')\n",
    "print('Confusion Matrix:')\n",
    "print(pd.DataFrame(confusion_matrix(y_test, predicted)))\n",
    "print('------------------------------------------------')\n",
    "print('Classification Report:')\n",
    "print(classification_report(y_test, predicted))"
   ]
  },
  {
   "cell_type": "code",
   "execution_count": 6,
   "metadata": {},
   "outputs": [
    {
     "name": "stdout",
     "output_type": "stream",
     "text": [
      "LR (with TFIDF vectorizer) accuracy is 58.57%\n",
      "------------------------------------------------\n",
      "Confusion Matrix:\n",
      "      0     1     2     3     4\n",
      "0  7508  2067   361    92    95\n",
      "1  2589  4804  2117   314   169\n",
      "2   585  2160  4785  1977   433\n",
      "3   125   264  1849  5083  2673\n",
      "4   113   101   296  2335  7105\n",
      "------------------------------------------------\n",
      "Classification Report:\n",
      "              precision    recall  f1-score   support\n",
      "\n",
      "           1       0.69      0.74      0.71     10123\n",
      "           2       0.51      0.48      0.50      9993\n",
      "           3       0.51      0.48      0.49      9940\n",
      "           4       0.52      0.51      0.51      9994\n",
      "           5       0.68      0.71      0.70      9950\n",
      "\n",
      "    accuracy                           0.59     50000\n",
      "   macro avg       0.58      0.59      0.58     50000\n",
      "weighted avg       0.58      0.59      0.58     50000\n",
      "\n"
     ]
    }
   ],
   "source": [
    "# Train the Logistic Regression classifier\n",
    "LR = LogisticRegression(solver='lbfgs', max_iter=5000)\n",
    "LR.fit(X_train_vectorized, y_train)\n",
    "\n",
    "predicted = LR.predict(X_test_vectorized)\n",
    "accuracy_score = metrics.accuracy_score(predicted, y_test)\n",
    "\n",
    "print('LR (with TFIDF vectorizer) accuracy is',str('{:04.2f}'.format(accuracy_score*100))+'%')\n",
    "print('------------------------------------------------')\n",
    "print('Confusion Matrix:')\n",
    "print(pd.DataFrame(confusion_matrix(y_test, predicted)))\n",
    "print('------------------------------------------------')\n",
    "print('Classification Report:')\n",
    "print(classification_report(y_test, predicted))"
   ]
  },
  {
   "cell_type": "code",
   "execution_count": 7,
   "metadata": {},
   "outputs": [
    {
     "name": "stdout",
     "output_type": "stream",
     "text": [
      "RF (with TFIDF vectorizer) accuracy is 52.15%\n",
      "------------------------------------------------\n",
      "Confusion Matrix:\n",
      "      0     1     2     3     4\n",
      "0  8043  1406   369   115   190\n",
      "1  3798  3315  2017   451   412\n",
      "2  1376  2049  3845  1818   852\n",
      "3   423   511  1878  3709  3473\n",
      "4   300   186   458  1842  7164\n",
      "------------------------------------------------\n",
      "Classification Report:\n",
      "              precision    recall  f1-score   support\n",
      "\n",
      "           1       0.58      0.79      0.67     10123\n",
      "           2       0.44      0.33      0.38      9993\n",
      "           3       0.45      0.39      0.42      9940\n",
      "           4       0.47      0.37      0.41      9994\n",
      "           5       0.59      0.72      0.65      9950\n",
      "\n",
      "    accuracy                           0.52     50000\n",
      "   macro avg       0.51      0.52      0.51     50000\n",
      "weighted avg       0.51      0.52      0.51     50000\n",
      "\n"
     ]
    }
   ],
   "source": [
    "# Train the Random Forest classifier\n",
    "RF = RandomForestClassifier(n_jobs=-1)\n",
    "RF.fit(X_train_vectorized, y_train)\n",
    "\n",
    "predicted = RF.predict(X_test_vectorized)\n",
    "accuracy_score = metrics.accuracy_score(predicted, y_test)\n",
    "\n",
    "print('RF (with TFIDF vectorizer) accuracy is',str('{:04.2f}'.format(accuracy_score*100))+'%')\n",
    "print('------------------------------------------------')\n",
    "print('Confusion Matrix:')\n",
    "print(pd.DataFrame(confusion_matrix(y_test, predicted)))\n",
    "print('------------------------------------------------')\n",
    "print('Classification Report:')\n",
    "print(classification_report(y_test, predicted))"
   ]
  }
 ],
 "metadata": {
  "kernelspec": {
   "display_name": "_environment",
   "language": "python",
   "name": "python3"
  },
  "language_info": {
   "codemirror_mode": {
    "name": "ipython",
    "version": 3
   },
   "file_extension": ".py",
   "mimetype": "text/x-python",
   "name": "python",
   "nbconvert_exporter": "python",
   "pygments_lexer": "ipython3",
   "version": "3.12.2"
  }
 },
 "nbformat": 4,
 "nbformat_minor": 2
}
