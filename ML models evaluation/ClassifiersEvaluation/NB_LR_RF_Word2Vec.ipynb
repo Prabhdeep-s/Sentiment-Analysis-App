{
 "cells": [
  {
   "cell_type": "code",
   "execution_count": 1,
   "metadata": {},
   "outputs": [],
   "source": [
    "import pandas as pd\n",
    "from sklearn.model_selection import train_test_split\n",
    "from sklearn.linear_model._logistic import LogisticRegression\n",
    "from sklearn.naive_bayes import MultinomialNB\n",
    "from sklearn.ensemble import RandomForestClassifier\n",
    "from sklearn.metrics import classification_report, confusion_matrix\n",
    "from sklearn import metrics\n",
    "import pickle\n",
    "import sys\n",
    "sys.path.append('../Vectorizers')\n",
    "from Word2VecVectorizer import getWord2VecVectors"
   ]
  },
  {
   "cell_type": "code",
   "execution_count": 2,
   "metadata": {},
   "outputs": [],
   "source": [
    "data = pd.read_csv(r\"..\\Dataset\\yelpReviewsDataset.csv\")"
   ]
  },
  {
   "cell_type": "code",
   "execution_count": 3,
   "metadata": {},
   "outputs": [],
   "source": [
    "with open(r\"..\\TokenizedDataset\\yelpReviewsDatasetTokens.pkl\", \"rb\") as file:\n",
    "    tokenized_Reviews = pickle.load(file)"
   ]
  },
  {
   "cell_type": "code",
   "execution_count": 10,
   "metadata": {},
   "outputs": [],
   "source": [
    "X = getWord2VecVectors(tokenized_Reviews, 300)\n",
    "y = data['Rating'].values\n",
    "\n",
    "# Split the data into training and testing sets\n",
    "X_train, X_test, y_train, y_test = train_test_split(X, y, test_size=0.2, random_state=42)"
   ]
  },
  {
   "cell_type": "code",
   "execution_count": 11,
   "metadata": {},
   "outputs": [],
   "source": [
    "from sklearn.preprocessing import MinMaxScaler\n",
    "scaler = MinMaxScaler()\n",
    "X_train = scaler.fit_transform(X_train)\n",
    "X_test = scaler.transform(X_test)"
   ]
  },
  {
   "cell_type": "code",
   "execution_count": 12,
   "metadata": {},
   "outputs": [
    {
     "name": "stdout",
     "output_type": "stream",
     "text": [
      "NB (with Word2Vec vectorizer) accuracy is 28.39%\n",
      "------------------------------------------------\n",
      "Confusion Matrix:\n",
      "      0     1     2     3     4\n",
      "0  3891  1147  2206   646  2233\n",
      "1  2751  1301  2695   801  2445\n",
      "2  1990  1082  3246  1121  2501\n",
      "3  1684   945  2640  1517  3208\n",
      "4  1705   688  2059  1256  4242\n",
      "------------------------------------------------\n",
      "Classification Report:\n",
      "              precision    recall  f1-score   support\n",
      "\n",
      "           1       0.32      0.38      0.35     10123\n",
      "           2       0.25      0.13      0.17      9993\n",
      "           3       0.25      0.33      0.28      9940\n",
      "           4       0.28      0.15      0.20      9994\n",
      "           5       0.29      0.43      0.35      9950\n",
      "\n",
      "    accuracy                           0.28     50000\n",
      "   macro avg       0.28      0.28      0.27     50000\n",
      "weighted avg       0.28      0.28      0.27     50000\n",
      "\n"
     ]
    }
   ],
   "source": [
    "# Train the Naive Bayes classifier\n",
    "MNB = MultinomialNB()\n",
    "MNB.fit(X_train, y_train)\n",
    "\n",
    "predicted = MNB.predict(X_test)\n",
    "accuracy_score = metrics.accuracy_score(predicted, y_test)\n",
    "\n",
    "print('NB (with Word2Vec vectorizer) accuracy is',str('{:04.2f}'.format(accuracy_score*100))+'%')\n",
    "print('------------------------------------------------')\n",
    "print('Confusion Matrix:')\n",
    "print(pd.DataFrame(confusion_matrix(y_test, predicted)))\n",
    "print('------------------------------------------------')\n",
    "print('Classification Report:')\n",
    "print(classification_report(y_test, predicted))"
   ]
  },
  {
   "cell_type": "code",
   "execution_count": 13,
   "metadata": {},
   "outputs": [
    {
     "name": "stdout",
     "output_type": "stream",
     "text": [
      "LR (with Word2Vec vectorizer) accuracy is 32.25%\n",
      "------------------------------------------------\n",
      "Confusion Matrix:\n",
      "      0     1     2     3     4\n",
      "0  5292  1348  1080   887  1516\n",
      "1  3744  1645  1605  1274  1725\n",
      "2  2400  1576  2045  1984  1935\n",
      "3  1726  1152  1708  2612  2796\n",
      "4  1684   807  1046  1880  4533\n",
      "------------------------------------------------\n",
      "Classification Report:\n",
      "              precision    recall  f1-score   support\n",
      "\n",
      "           1       0.36      0.52      0.42     10123\n",
      "           2       0.25      0.16      0.20      9993\n",
      "           3       0.27      0.21      0.23      9940\n",
      "           4       0.30      0.26      0.28      9994\n",
      "           5       0.36      0.46      0.40      9950\n",
      "\n",
      "    accuracy                           0.32     50000\n",
      "   macro avg       0.31      0.32      0.31     50000\n",
      "weighted avg       0.31      0.32      0.31     50000\n",
      "\n"
     ]
    }
   ],
   "source": [
    "# Train the Logistic Regression classifier\n",
    "LR = LogisticRegression(solver='lbfgs', max_iter=5000)\n",
    "LR.fit(X_train, y_train)\n",
    "\n",
    "predicted = LR.predict(X_test)\n",
    "accuracy_score = metrics.accuracy_score(predicted, y_test)\n",
    "\n",
    "print('LR (with Word2Vec vectorizer) accuracy is',str('{:04.2f}'.format(accuracy_score*100))+'%')\n",
    "print('------------------------------------------------')\n",
    "print('Confusion Matrix:')\n",
    "print(pd.DataFrame(confusion_matrix(y_test, predicted)))\n",
    "print('------------------------------------------------')\n",
    "print('Classification Report:')\n",
    "print(classification_report(y_test, predicted))"
   ]
  },
  {
   "cell_type": "code",
   "execution_count": 15,
   "metadata": {},
   "outputs": [
    {
     "name": "stdout",
     "output_type": "stream",
     "text": [
      "RF (with Word2Vec vectorizer) accuracy is 30.79%\n",
      "------------------------------------------------\n",
      "Confusion Matrix:\n",
      "      0     1     2     3     4\n",
      "0  4312  1873  1341  1087  1510\n",
      "1  2887  2151  1873  1554  1528\n",
      "2  1866  1952  2301  2064  1757\n",
      "3  1436  1500  2021  2510  2527\n",
      "4  1481  1090  1309  1949  4121\n",
      "------------------------------------------------\n",
      "Classification Report:\n",
      "              precision    recall  f1-score   support\n",
      "\n",
      "           1       0.36      0.43      0.39     10123\n",
      "           2       0.25      0.22      0.23      9993\n",
      "           3       0.26      0.23      0.24      9940\n",
      "           4       0.27      0.25      0.26      9994\n",
      "           5       0.36      0.41      0.39      9950\n",
      "\n",
      "    accuracy                           0.31     50000\n",
      "   macro avg       0.30      0.31      0.30     50000\n",
      "weighted avg       0.30      0.31      0.30     50000\n",
      "\n"
     ]
    }
   ],
   "source": [
    "# Train the Random Forest classifier\n",
    "RF = RandomForestClassifier(n_jobs=-1)\n",
    "RF.fit(X_train, y_train)\n",
    "\n",
    "predicted = RF.predict(X_test)\n",
    "accuracy_score = metrics.accuracy_score(predicted, y_test)\n",
    "\n",
    "print('RF (with Word2Vec vectorizer) accuracy is',str('{:04.2f}'.format(accuracy_score*100))+'%')\n",
    "print('------------------------------------------------')\n",
    "print('Confusion Matrix:')\n",
    "print(pd.DataFrame(confusion_matrix(y_test, predicted)))\n",
    "print('------------------------------------------------')\n",
    "print('Classification Report:')\n",
    "print(classification_report(y_test, predicted))"
   ]
  }
 ],
 "metadata": {
  "kernelspec": {
   "display_name": "_environment",
   "language": "python",
   "name": "python3"
  },
  "language_info": {
   "codemirror_mode": {
    "name": "ipython",
    "version": 3
   },
   "file_extension": ".py",
   "mimetype": "text/x-python",
   "name": "python",
   "nbconvert_exporter": "python",
   "pygments_lexer": "ipython3",
   "version": "3.12.2"
  }
 },
 "nbformat": 4,
 "nbformat_minor": 2
}
