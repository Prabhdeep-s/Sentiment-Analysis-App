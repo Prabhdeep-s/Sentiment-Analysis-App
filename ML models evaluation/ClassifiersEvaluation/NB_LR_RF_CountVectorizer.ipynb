{
 "cells": [
  {
   "cell_type": "code",
   "execution_count": 1,
   "metadata": {},
   "outputs": [],
   "source": [
    "import pandas as pd\n",
    "from sklearn.model_selection import train_test_split\n",
    "from sklearn.linear_model._logistic import LogisticRegression\n",
    "from sklearn.naive_bayes import MultinomialNB\n",
    "from sklearn.ensemble import RandomForestClassifier\n",
    "from sklearn.metrics import classification_report, confusion_matrix\n",
    "from sklearn import metrics\n",
    "import pickle\n",
    "import sys\n",
    "sys.path.append('../Vectorizers')\n",
    "from CountVectorizer import getCountVectors"
   ]
  },
  {
   "cell_type": "code",
   "execution_count": 2,
   "metadata": {},
   "outputs": [],
   "source": [
    "data = pd.read_csv(r\"..\\Dataset\\yelpReviewsDataset.csv\")"
   ]
  },
  {
   "cell_type": "code",
   "execution_count": 3,
   "metadata": {},
   "outputs": [],
   "source": [
    "with open(r\"..\\TokenizedDataset\\yelpReviewsDatasetTokens.pkl\", \"rb\") as file:\n",
    "    tokenized_Reviews = pickle.load(file)"
   ]
  },
  {
   "cell_type": "code",
   "execution_count": 4,
   "metadata": {},
   "outputs": [],
   "source": [
    "# Split the data into training and testing sets\n",
    "X_train, X_test, y_train, y_test = train_test_split(tokenized_Reviews, data['Rating'].values, test_size=0.2, random_state=42)\n",
    "\n",
    "# Convert text data to numerical feature vectors\n",
    "X_train_vectorized, X_test_vectorized = getCountVectors(X_train, X_test)"
   ]
  },
  {
   "cell_type": "code",
   "execution_count": 5,
   "metadata": {},
   "outputs": [
    {
     "name": "stdout",
     "output_type": "stream",
     "text": [
      "NB (with count vectorizer) accuracy is 54.62%\n",
      "------------------------------------------------\n",
      "Confusion Matrix:\n",
      "      0     1     2     3     4\n",
      "0  7074  2345   531    95    78\n",
      "1  2818  3973  2686   382   134\n",
      "2   947  1814  4502  2212   465\n",
      "3   252   404  1768  4739  2831\n",
      "4   203   163   372  2189  7023\n",
      "------------------------------------------------\n",
      "Classification Report:\n",
      "              precision    recall  f1-score   support\n",
      "\n",
      "           1       0.63      0.70      0.66     10123\n",
      "           2       0.46      0.40      0.43      9993\n",
      "           3       0.46      0.45      0.45      9940\n",
      "           4       0.49      0.47      0.48      9994\n",
      "           5       0.67      0.71      0.69      9950\n",
      "\n",
      "    accuracy                           0.55     50000\n",
      "   macro avg       0.54      0.55      0.54     50000\n",
      "weighted avg       0.54      0.55      0.54     50000\n",
      "\n"
     ]
    }
   ],
   "source": [
    "# Train the Naive Bayes classifier\n",
    "MNB = MultinomialNB()\n",
    "MNB.fit(X_train_vectorized, y_train)\n",
    "\n",
    "predicted = MNB.predict(X_test_vectorized)\n",
    "accuracy_score = metrics.accuracy_score(predicted, y_test)\n",
    "\n",
    "print('NB (with count vectorizer) accuracy is',str('{:04.2f}'.format(accuracy_score*100))+'%')\n",
    "print('------------------------------------------------')\n",
    "print('Confusion Matrix:')\n",
    "print(pd.DataFrame(confusion_matrix(y_test, predicted)))\n",
    "print('------------------------------------------------')\n",
    "print('Classification Report:')\n",
    "print(classification_report(y_test, predicted))"
   ]
  },
  {
   "cell_type": "code",
   "execution_count": 6,
   "metadata": {},
   "outputs": [
    {
     "name": "stdout",
     "output_type": "stream",
     "text": [
      "LR (with count vectorizer) accuracy is 56.51%\n",
      "------------------------------------------------\n",
      "Confusion Matrix:\n",
      "      0     1     2     3     4\n",
      "0  7283  2119   510   112    99\n",
      "1  2682  4486  2257   388   180\n",
      "2   616  2182  4581  2063   498\n",
      "3   122   313  1846  4745  2968\n",
      "4    95   103   369  2223  7160\n",
      "------------------------------------------------\n",
      "Classification Report:\n",
      "              precision    recall  f1-score   support\n",
      "\n",
      "           1       0.67      0.72      0.70     10123\n",
      "           2       0.49      0.45      0.47      9993\n",
      "           3       0.48      0.46      0.47      9940\n",
      "           4       0.50      0.47      0.49      9994\n",
      "           5       0.66      0.72      0.69      9950\n",
      "\n",
      "    accuracy                           0.57     50000\n",
      "   macro avg       0.56      0.56      0.56     50000\n",
      "weighted avg       0.56      0.57      0.56     50000\n",
      "\n"
     ]
    }
   ],
   "source": [
    "# Train the Logistic Regression classifier\n",
    "LR = LogisticRegression(solver='lbfgs', max_iter=5000)\n",
    "LR.fit(X_train_vectorized, y_train)\n",
    "\n",
    "predicted = LR.predict(X_test_vectorized)\n",
    "accuracy_score = metrics.accuracy_score(predicted, y_test)\n",
    "\n",
    "print('LR (with count vectorizer) accuracy is',str('{:04.2f}'.format(accuracy_score*100))+'%')\n",
    "print('------------------------------------------------')\n",
    "print('Confusion Matrix:')\n",
    "print(pd.DataFrame(confusion_matrix(y_test, predicted)))\n",
    "print('------------------------------------------------')\n",
    "print('Classification Report:')\n",
    "print(classification_report(y_test, predicted))"
   ]
  },
  {
   "cell_type": "code",
   "execution_count": 7,
   "metadata": {},
   "outputs": [
    {
     "name": "stdout",
     "output_type": "stream",
     "text": [
      "RF (with count vectorizer) accuracy is 52.24%\n",
      "------------------------------------------------\n",
      "Confusion Matrix:\n",
      "      0     1     2     3     4\n",
      "0  8046  1376   408   111   182\n",
      "1  3787  3321  2037   448   400\n",
      "2  1370  1989  3940  1728   913\n",
      "3   430   518  1897  3541  3608\n",
      "4   283   193   476  1727  7271\n",
      "------------------------------------------------\n",
      "Classification Report:\n",
      "              precision    recall  f1-score   support\n",
      "\n",
      "           1       0.58      0.79      0.67     10123\n",
      "           2       0.45      0.33      0.38      9993\n",
      "           3       0.45      0.40      0.42      9940\n",
      "           4       0.47      0.35      0.40      9994\n",
      "           5       0.59      0.73      0.65      9950\n",
      "\n",
      "    accuracy                           0.52     50000\n",
      "   macro avg       0.51      0.52      0.51     50000\n",
      "weighted avg       0.51      0.52      0.51     50000\n",
      "\n"
     ]
    }
   ],
   "source": [
    "# Train the Random Forest classifier\n",
    "RF = RandomForestClassifier(n_jobs=-1)\n",
    "RF.fit(X_train_vectorized, y_train)\n",
    "\n",
    "predicted = RF.predict(X_test_vectorized)\n",
    "accuracy_score = metrics.accuracy_score(predicted, y_test)\n",
    "\n",
    "print('RF (with count vectorizer) accuracy is',str('{:04.2f}'.format(accuracy_score*100))+'%')\n",
    "print('------------------------------------------------')\n",
    "print('Confusion Matrix:')\n",
    "print(pd.DataFrame(confusion_matrix(y_test, predicted)))\n",
    "print('------------------------------------------------')\n",
    "print('Classification Report:')\n",
    "print(classification_report(y_test, predicted))"
   ]
  }
 ],
 "metadata": {
  "kernelspec": {
   "display_name": "_environment",
   "language": "python",
   "name": "python3"
  },
  "language_info": {
   "codemirror_mode": {
    "name": "ipython",
    "version": 3
   },
   "file_extension": ".py",
   "mimetype": "text/x-python",
   "name": "python",
   "nbconvert_exporter": "python",
   "pygments_lexer": "ipython3",
   "version": "3.12.2"
  }
 },
 "nbformat": 4,
 "nbformat_minor": 2
}
