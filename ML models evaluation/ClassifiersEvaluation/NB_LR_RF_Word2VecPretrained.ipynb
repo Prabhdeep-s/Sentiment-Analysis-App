{
 "cells": [
  {
   "cell_type": "code",
   "execution_count": 1,
   "metadata": {},
   "outputs": [],
   "source": [
    "import pandas as pd\n",
    "from sklearn.model_selection import train_test_split\n",
    "from sklearn.linear_model._logistic import LogisticRegression\n",
    "from sklearn.naive_bayes import MultinomialNB\n",
    "from sklearn.ensemble import RandomForestClassifier\n",
    "from sklearn.metrics import classification_report, confusion_matrix\n",
    "from sklearn import metrics\n",
    "import pickle\n",
    "import sys\n",
    "sys.path.append('../Vectorizers')\n",
    "from Word2VecVectorizer_PreTrained import getWord2VecVectorsPreTrained"
   ]
  },
  {
   "cell_type": "code",
   "execution_count": 2,
   "metadata": {},
   "outputs": [],
   "source": [
    "data = pd.read_csv(r\"..\\Dataset\\yelpReviewsDataset.csv\")"
   ]
  },
  {
   "cell_type": "code",
   "execution_count": 3,
   "metadata": {},
   "outputs": [],
   "source": [
    "with open(r\"..\\TokenizedDataset\\yelpReviewsDatasetTokens.pkl\", \"rb\") as file:\n",
    "    tokenized_Reviews = pickle.load(file)"
   ]
  },
  {
   "cell_type": "code",
   "execution_count": 4,
   "metadata": {},
   "outputs": [],
   "source": [
    "X = getWord2VecVectorsPreTrained(tokenized_Reviews)\n",
    "y = data['Rating'].values\n",
    "\n",
    "# Split the data into training and testing sets\n",
    "X_train, X_test, y_train, y_test = train_test_split(X, y, test_size=0.2, random_state=42)"
   ]
  },
  {
   "cell_type": "code",
   "execution_count": 5,
   "metadata": {},
   "outputs": [],
   "source": [
    "from sklearn.preprocessing import MinMaxScaler\n",
    "scaler = MinMaxScaler()\n",
    "X_train = scaler.fit_transform(X_train)\n",
    "X_test = scaler.transform(X_test)"
   ]
  },
  {
   "cell_type": "code",
   "execution_count": 6,
   "metadata": {},
   "outputs": [
    {
     "name": "stdout",
     "output_type": "stream",
     "text": [
      "NB (with pretrained Word2Vec vectorizer) accuracy is 28.15%\n",
      "------------------------------------------------\n",
      "Confusion Matrix:\n",
      "      0     1     2     3     4\n",
      "0  4548  1074  1744  1597  1160\n",
      "1  3324  1090  2118  2026  1435\n",
      "2  2351   947  2316  2668  1658\n",
      "3  2014   695  1799  3347  2139\n",
      "4  2426   577  1390  2784  2773\n",
      "------------------------------------------------\n",
      "Classification Report:\n",
      "              precision    recall  f1-score   support\n",
      "\n",
      "           1       0.31      0.45      0.37     10123\n",
      "           2       0.25      0.11      0.15      9993\n",
      "           3       0.25      0.23      0.24      9940\n",
      "           4       0.27      0.33      0.30      9994\n",
      "           5       0.30      0.28      0.29      9950\n",
      "\n",
      "    accuracy                           0.28     50000\n",
      "   macro avg       0.28      0.28      0.27     50000\n",
      "weighted avg       0.28      0.28      0.27     50000\n",
      "\n"
     ]
    }
   ],
   "source": [
    "# Train the Naive Bayes classifier\n",
    "MNB = MultinomialNB()\n",
    "MNB.fit(X_train, y_train)\n",
    "\n",
    "predicted = MNB.predict(X_test)\n",
    "accuracy_score = metrics.accuracy_score(predicted, y_test)\n",
    "\n",
    "print('NB (with pretrained Word2Vec vectorizer) accuracy is',str('{:04.2f}'.format(accuracy_score*100))+'%')\n",
    "print('------------------------------------------------')\n",
    "print('Confusion Matrix:')\n",
    "print(pd.DataFrame(confusion_matrix(y_test, predicted)))\n",
    "print('------------------------------------------------')\n",
    "print('Classification Report:')\n",
    "print(classification_report(y_test, predicted))"
   ]
  },
  {
   "cell_type": "code",
   "execution_count": 7,
   "metadata": {},
   "outputs": [
    {
     "name": "stdout",
     "output_type": "stream",
     "text": [
      "LR (with pretrained Word2Vec vectorizer) accuracy is 32.06%\n",
      "------------------------------------------------\n",
      "Confusion Matrix:\n",
      "      0     1     2     3     4\n",
      "0  4711  1813  1178   953  1468\n",
      "1  3109  2198  1849  1356  1481\n",
      "2  2019  1854  2323  2050  1694\n",
      "3  1497  1382  1942  2787  2386\n",
      "4  1774   955  1105  2106  4010\n",
      "------------------------------------------------\n",
      "Classification Report:\n",
      "              precision    recall  f1-score   support\n",
      "\n",
      "           1       0.36      0.47      0.41     10123\n",
      "           2       0.27      0.22      0.24      9993\n",
      "           3       0.28      0.23      0.25      9940\n",
      "           4       0.30      0.28      0.29      9994\n",
      "           5       0.36      0.40      0.38      9950\n",
      "\n",
      "    accuracy                           0.32     50000\n",
      "   macro avg       0.31      0.32      0.31     50000\n",
      "weighted avg       0.31      0.32      0.31     50000\n",
      "\n"
     ]
    }
   ],
   "source": [
    "# Train the Logistic Regression classifier\n",
    "LR = LogisticRegression(solver='lbfgs', max_iter=5000)\n",
    "LR.fit(X_train, y_train)\n",
    "\n",
    "predicted = LR.predict(X_test)\n",
    "accuracy_score = metrics.accuracy_score(predicted, y_test)\n",
    "\n",
    "print('LR (with pretrained Word2Vec vectorizer) accuracy is',str('{:04.2f}'.format(accuracy_score*100))+'%')\n",
    "print('------------------------------------------------')\n",
    "print('Confusion Matrix:')\n",
    "print(pd.DataFrame(confusion_matrix(y_test, predicted)))\n",
    "print('------------------------------------------------')\n",
    "print('Classification Report:')\n",
    "print(classification_report(y_test, predicted))"
   ]
  },
  {
   "cell_type": "code",
   "execution_count": 8,
   "metadata": {},
   "outputs": [
    {
     "name": "stdout",
     "output_type": "stream",
     "text": [
      "RF (with pretrained Word2Vec vectorizer) accuracy is 30.54%\n",
      "------------------------------------------------\n",
      "Confusion Matrix:\n",
      "      0     1     2     3     4\n",
      "0  4339  1989  1285  1097  1413\n",
      "1  2873  2188  1884  1514  1534\n",
      "2  1927  1878  2271  2156  1708\n",
      "3  1451  1499  1977  2547  2520\n",
      "4  1595  1070  1341  2018  3926\n",
      "------------------------------------------------\n",
      "Classification Report:\n",
      "              precision    recall  f1-score   support\n",
      "\n",
      "           1       0.36      0.43      0.39     10123\n",
      "           2       0.25      0.22      0.24      9993\n",
      "           3       0.26      0.23      0.24      9940\n",
      "           4       0.27      0.25      0.26      9994\n",
      "           5       0.35      0.39      0.37      9950\n",
      "\n",
      "    accuracy                           0.31     50000\n",
      "   macro avg       0.30      0.31      0.30     50000\n",
      "weighted avg       0.30      0.31      0.30     50000\n",
      "\n"
     ]
    }
   ],
   "source": [
    "# Train the Random Forest classifier\n",
    "RF = RandomForestClassifier(n_jobs=-1)\n",
    "RF.fit(X_train, y_train)\n",
    "\n",
    "predicted = RF.predict(X_test)\n",
    "accuracy_score = metrics.accuracy_score(predicted, y_test)\n",
    "\n",
    "print('RF (with pretrained Word2Vec vectorizer) accuracy is',str('{:04.2f}'.format(accuracy_score*100))+'%')\n",
    "print('------------------------------------------------')\n",
    "print('Confusion Matrix:')\n",
    "print(pd.DataFrame(confusion_matrix(y_test, predicted)))\n",
    "print('------------------------------------------------')\n",
    "print('Classification Report:')\n",
    "print(classification_report(y_test, predicted))"
   ]
  }
 ],
 "metadata": {
  "kernelspec": {
   "display_name": "_environment",
   "language": "python",
   "name": "python3"
  },
  "language_info": {
   "codemirror_mode": {
    "name": "ipython",
    "version": 3
   },
   "file_extension": ".py",
   "mimetype": "text/x-python",
   "name": "python",
   "nbconvert_exporter": "python",
   "pygments_lexer": "ipython3",
   "version": "3.12.2"
  }
 },
 "nbformat": 4,
 "nbformat_minor": 2
}
