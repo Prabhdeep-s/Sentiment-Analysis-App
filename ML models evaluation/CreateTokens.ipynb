{
 "cells": [
  {
   "cell_type": "code",
   "execution_count": 8,
   "metadata": {},
   "outputs": [],
   "source": [
    "import pandas as pd\n",
    "import sys\n",
    "sys.path.append('./Tokenizers')\n",
    "from CustomTokenizer import preprocess_text_Custom"
   ]
  },
  {
   "cell_type": "code",
   "execution_count": 9,
   "metadata": {},
   "outputs": [],
   "source": [
    "data = pd.read_csv(r\".\\Dataset\\yelpReviewsDataset.csv\")"
   ]
  },
  {
   "cell_type": "code",
   "execution_count": 12,
   "metadata": {},
   "outputs": [
    {
     "data": {
      "text/plain": [
       "250000"
      ]
     },
     "execution_count": 12,
     "metadata": {},
     "output_type": "execute_result"
    }
   ],
   "source": [
    "len(data)"
   ]
  },
  {
   "cell_type": "code",
   "execution_count": 13,
   "metadata": {},
   "outputs": [],
   "source": [
    "reviews = data['Review'].values\n",
    "tokenized_Reviews = [preprocess_text_Custom(text, False) for text in reviews]"
   ]
  },
  {
   "cell_type": "code",
   "execution_count": 14,
   "metadata": {},
   "outputs": [
    {
     "data": {
      "text/plain": [
       "['food poison okay really want write bad review love yummy house sooo excite one come south tampa take mom week ago close closing time lunch get thing staff extremely rude rush us still seat table food whatever chalk come back need write bad review well boyfriend take daughter last night order orange chicken beef dish vegetable bistro rice everyone literally fight bathroom time make home boyfriend doctor legit food poison basically leave restroom last night vomit diarrhea hour hour call work today win back',\n",
       " 'terrible service review solely base experience yesterday service receive couple time service always sub par yesterday final nail coffin need decide never come back bring couple friend want get hookah philly place cover charge drink mandatory weekend order two hookah drink bunch appetizer hookah decently prepared food pretty average drink good even finish mandatory drink service ask coal change server take forever get back us come finally put coal top exist one burn entire hookah flavor keep ask server check literally take another half hour come make excuse suppose share hookah people c mon girl first timer wait eternally literally everything coal change food water refill get first refill leave even bill point wait get place',\n",
       " 'great place go open outdoor seating nice vibe dj great play wide selection music appreciate everyone work wore mask felt like take necessary precaution keep everyone safe order special frozen drink negroni blood orange good come baby cup shock normal morgan pier cocktail cup regard food french fry great wing good rib sandwich bad reccomend pickle bad beer good well come back good vibe drink stick basic food option',\n",
       " 'almost miss place since expect see mean get walk look fancy romantic inside chandelier cool wall try red lotus cocktail ichigo crush although good get buzz even little bit small frame chick usually feel buzz st drink felt nothing whatsoever drink first drink empty stomach maybe forget hard liquor suddenly develop super power resist get drunk coconut shrimp scallop great pop love chorizo scallop super cold inside bring sweater service fantastic natalia look us well',\n",
       " 'great food cozy atmosphere food unique delicious best part sit bar watch chef make food def worth wait']"
      ]
     },
     "execution_count": 14,
     "metadata": {},
     "output_type": "execute_result"
    }
   ],
   "source": [
    "tokenized_Reviews[0:5]"
   ]
  },
  {
   "cell_type": "code",
   "execution_count": 16,
   "metadata": {},
   "outputs": [],
   "source": [
    "import pickle\n",
    "with open(r\".\\TokenizedDataset\\yelpReviewsDatasetTokens.pkl\", \"wb\") as file:\n",
    "    pickle.dump(tokenized_Reviews, file)"
   ]
  }
 ],
 "metadata": {
  "kernelspec": {
   "display_name": "_environment",
   "language": "python",
   "name": "python3"
  },
  "language_info": {
   "codemirror_mode": {
    "name": "ipython",
    "version": 3
   },
   "file_extension": ".py",
   "mimetype": "text/x-python",
   "name": "python",
   "nbconvert_exporter": "python",
   "pygments_lexer": "ipython3",
   "version": "3.12.2"
  }
 },
 "nbformat": 4,
 "nbformat_minor": 2
}
